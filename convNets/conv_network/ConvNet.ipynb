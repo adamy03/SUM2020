{
 "cells": [
  {
   "cell_type": "markdown",
   "metadata": {},
   "source": [
    "**Imports**"
   ]
  },
  {
   "cell_type": "code",
   "execution_count": 1,
   "metadata": {},
   "outputs": [],
   "source": [
    "import tensorflow as tf\n",
    "import pandas as pd\n",
    "import numpy as np\n",
    "import seaborn as sns\n",
    "from matplotlib import pyplot as plt\n",
    "\n",
    "import tensorflow.keras\n",
    "from tensorflow.keras.datasets import mnist\n",
    "from tensorflow.keras.utils import to_categorical\n",
    "from tensorflow.keras.layers import Conv2D, Flatten, Dense\n",
    "from tensorflow.keras.models import Sequential\n",
    "\n",
    "from sklearn.model_selection import train_test_split\n",
    "\n"
   ]
  },
  {
   "cell_type": "markdown",
   "metadata": {},
   "source": [
    "**Data Processing**"
   ]
  },
  {
   "cell_type": "code",
   "execution_count": 17,
   "metadata": {},
   "outputs": [
    {
     "name": "stdout",
     "output_type": "stream",
     "text": [
      "digits: [0 1 2 3 4 5 6 7 8 9]\n",
      "(60000, 28, 28)\n"
     ]
    }
   ],
   "source": [
    "#splitting data\n",
    "(train_imgs,train_labels), (test_imgs,test_labels) = mnist.load_data()\n",
    "\n",
    "#image labels\n",
    "digits = np.unique(train_labels)\n",
    "print('digits:', digits)\n",
    "print(train_imgs.shape)\n",
    "\n",
    "#preprocessing\n",
    "train_imgs = train_imgs.reshape(-1, 28, 28, 1)\n",
    "test_imgs = test_imgs.reshape(-1, 28, 28, 1)\n",
    "\n",
    "train_imgs = train_imgs / 255\n",
    "test_imgs = test_imgs / 255\n",
    "\n",
    "img_shape = (28, 28, 1)\n",
    "\n",
    "#encoding digit types\n",
    "train_labels_code = tf.keras.utils.to_categorical(train_labels)\n",
    "test_labels_code = tf.keras.utils.to_categorical(test_labels)\n",
    "\n",
    "#test split\n",
    "train_x, valid_x, train_y, valid_y = train_test_split(train_imgs, train_labels_code, test_size=0.3, random_state=10)\n"
   ]
  },
  {
   "cell_type": "markdown",
   "metadata": {},
   "source": [
    "**Model construction**"
   ]
  },
  {
   "cell_type": "code",
   "execution_count": 36,
   "metadata": {},
   "outputs": [],
   "source": [
    "layer1_bs = 32\n",
    "layer2_bs = 32\n",
    "\n",
    "convNet = Sequential()\n",
    "\n",
    "convNet.add(Conv2D(layer1_bs, kernel_size=3, activation='relu', input_shape=img_shape))\n",
    "convNet.add(Conv2D(layer2_bs, kernel_size=3, activation='relu'))\n",
    "convNet.add(Flatten())\n",
    "convNet.add(Dense(10, activation='softmax'))\n",
    "convNet.compile(optimizer='adam', loss='categorical_crossentropy', metrics=['accuracy'])\n"
   ]
  },
  {
   "cell_type": "markdown",
   "metadata": {},
   "source": [
    "**Training**"
   ]
  },
  {
   "cell_type": "code",
   "execution_count": 37,
   "metadata": {},
   "outputs": [
    {
     "name": "stdout",
     "output_type": "stream",
     "text": [
      "Train on 42000 samples, validate on 18000 samples\n",
      "Epoch 1/3\n",
      "42000/42000 [==============================] - 70s 2ms/sample - loss: 0.1534 - accuracy: 0.9548 - val_loss: 0.0815 - val_accuracy: 0.9758\n",
      "Epoch 2/3\n",
      "42000/42000 [==============================] - 90s 2ms/sample - loss: 0.0573 - accuracy: 0.9822 - val_loss: 0.0640 - val_accuracy: 0.9811\n",
      "Epoch 3/3\n",
      "42000/42000 [==============================] - 86s 2ms/sample - loss: 0.0366 - accuracy: 0.9888 - val_loss: 0.0659 - val_accuracy: 0.9816\n"
     ]
    },
    {
     "data": {
      "text/plain": [
       "<tensorflow.python.keras.callbacks.History at 0x26e3945c188>"
      ]
     },
     "execution_count": 37,
     "metadata": {},
     "output_type": "execute_result"
    }
   ],
   "source": [
    "convNet.fit(train_x, train_y, validation_data=(valid_x,valid_y), epochs=3)"
   ]
  },
  {
   "cell_type": "code",
   "execution_count": 38,
   "metadata": {},
   "outputs": [
    {
     "name": "stdout",
     "output_type": "stream",
     "text": [
      "WARNING:tensorflow:From C:\\Users\\adamf\\Anaconda3\\envs\\machine_learning\\lib\\site-packages\\tensorflow_core\\python\\ops\\resource_variable_ops.py:1786: calling BaseResourceVariable.__init__ (from tensorflow.python.ops.resource_variable_ops) with constraint is deprecated and will be removed in a future version.\n",
      "Instructions for updating:\n",
      "If using Keras pass *_constraint arguments to layers.\n",
      "INFO:tensorflow:Assets written to: digit_convNet.h5py\\assets\n"
     ]
    }
   ],
   "source": [
    "convNet.save('digit_convNet.h5py')"
   ]
  },
  {
   "cell_type": "markdown",
   "metadata": {},
   "source": [
    "**Testing**"
   ]
  },
  {
   "cell_type": "code",
   "execution_count": 3,
   "metadata": {},
   "outputs": [],
   "source": [
    "dig = tf.keras.models.load_model('digit_convNet.h5py')\n"
   ]
  },
  {
   "cell_type": "code",
   "execution_count": 4,
   "metadata": {},
   "outputs": [],
   "source": [
    "test = dig.predict(test_imgs)\n",
    "test = np.argmax(np.round(test), axis = 1)\n"
   ]
  },
  {
   "cell_type": "code",
   "execution_count": 6,
   "metadata": {},
   "outputs": [
    {
     "data": {
      "image/png": "[encoded data removed]",
      "text/plain": [
       "<Figure size 648x216 with 3 Axes>"
      ]
     },
     "metadata": {
      "needs_background": "light"
     },
     "output_type": "display_data"
    }
   ],
   "source": [
    "fig, [ax1, ax2, ax3] = plt.subplots(1,3, figsize=(9,3))\n",
    "\n",
    "for i, j in enumerate([ax1, ax2, ax3]):\n",
    "    j.imshow(test_imgs[57-i], cmap='binary')\n",
    "    j.set_title('Predicted: {}'.format(test[57-i]))\n",
    "    j.grid(False)\n"
   ]
  }
 ],
 "metadata": {
  "kernelspec": {
   "display_name": "Python 3",
   "language": "python",
   "name": "python3"
  },
  "language_info": {
   "codemirror_mode": {
    "name": "ipython",
    "version": 3
   },
   "file_extension": ".py",
   "mimetype": "text/x-python",
   "name": "python",
   "nbconvert_exporter": "python",
   "pygments_lexer": "ipython3",
   "version": "3.7.7"
  }
 },
 "nbformat": 4,
 "nbformat_minor": 4
}
