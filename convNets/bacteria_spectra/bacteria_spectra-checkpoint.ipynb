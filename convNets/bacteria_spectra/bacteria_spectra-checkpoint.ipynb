{
 "cells": [
  {
   "cell_type": "markdown",
   "metadata": {},
   "source": [
    "**Imports**"
   ]
  },
  {
   "cell_type": "code",
   "execution_count": 83,
   "metadata": {},
   "outputs": [],
   "source": [
    "import tensorflow as tf\n",
    "import pandas as pd\n",
    "import numpy as np\n",
    "import seaborn as sns\n",
    "from matplotlib import pyplot as plt\n",
    "\n",
    "import tensorflow.keras\n",
    "from tensorflow.keras.datasets import mnist\n",
    "from tensorflow.keras.utils import to_categorical\n",
    "from tensorflow.keras.layers import Conv1D, Flatten, Dense\n",
    "from tensorflow.keras.models import Sequential\n",
    "\n",
    "from sklearn.model_selection import train_test_split\n",
    "\n"
   ]
  },
  {
   "cell_type": "markdown",
   "metadata": {},
   "source": [
    "**Loading in Data**"
   ]
  },
  {
   "cell_type": "code",
   "execution_count": 84,
   "metadata": {
    "scrolled": true
   },
   "outputs": [],
   "source": [
    "from numpy import genfromtxt\n",
    "data = genfromtxt('spectra_data/pure_spectra_matrix.csv', delimiter=';')\n",
    "\n",
    "spectra = pd.DataFrame(data=data, columns=np.arange(len(data[0][:])))\n",
    "metadata = pd.read_csv('spectra_data/pure_spectra_metadata.csv', delimiter=';')\n"
   ]
  },
  {
   "cell_type": "markdown",
   "metadata": {},
   "source": [
    "**Processing Data**"
   ]
  },
  {
   "cell_type": "code",
   "execution_count": 85,
   "metadata": {},
   "outputs": [],
   "source": [
    "#preprocessing\n",
    "signals = data.reshape(571, 1300, 1)\n",
    "signals = signals/np.max(signals)\n",
    "\n",
    "#labels\n",
    "genera = np.unique(np.array([x[:3] for x in metadata.Species.unique()]))\n",
    "\n",
    "#encoding targets\n",
    "coded = dict(zip(genera, np.arange(len(genera)))) \n",
    "\n",
    "#targets\n",
    "targets = [x[:3] for x in metadata.Species]\n",
    "targets = [coded['{}'.format(x)] for x in targets]\n",
    "targets = tf.keras.utils.to_categorical(targets)\n",
    "\n",
    "#training/validation data\n",
    "train_x, valid_x, train_y, valid_y = train_test_split(signals, targets, test_size=0.3, random_state=10)"
   ]
  },
  {
   "cell_type": "markdown",
   "metadata": {},
   "source": [
    "**Conv1D Construction**"
   ]
  },
  {
   "cell_type": "code",
   "execution_count": 88,
   "metadata": {},
   "outputs": [],
   "source": [
    "layer1_bs = 45\n",
    "layer2_bs = 36\n",
    "layer3_bs = 27\n",
    "layer4_bs = 18\n",
    "\n",
    "shape = signals[0].shape\n",
    "\n",
    "convNet = Sequential()\n",
    "\n",
    "convNet.add(Conv1D(layer1_bs, kernel_size=3, activation='relu', input_shape=shape))\n",
    "convNet.add(Conv1D(layer2_bs, kernel_size=3, activation='relu'))\n",
    "convNet.add(Flatten())\n",
    "convNet.add(Dense(9, activation='softmax'))\n",
    "convNet.compile(optimizer='adam', loss='categorical_crossentropy', metrics=['accuracy'])\n"
   ]
  },
  {
   "cell_type": "markdown",
   "metadata": {},
   "source": [
    "**Train**"
   ]
  },
  {
   "cell_type": "code",
   "execution_count": 89,
   "metadata": {},
   "outputs": [
    {
     "name": "stdout",
     "output_type": "stream",
     "text": [
      "Train on 399 samples, validate on 172 samples\n",
      "Epoch 1/20\n",
      "399/399 [==============================] - 2s 4ms/sample - loss: 2.1281 - accuracy: 0.2632 - val_loss: 2.1030 - val_accuracy: 0.2035\n",
      "Epoch 2/20\n",
      "399/399 [==============================] - 1s 3ms/sample - loss: 2.0035 - accuracy: 0.2657 - val_loss: 2.0107 - val_accuracy: 0.2035\n",
      "Epoch 3/20\n",
      "399/399 [==============================] - 1s 3ms/sample - loss: 1.8507 - accuracy: 0.3283 - val_loss: 1.8908 - val_accuracy: 0.2209\n",
      "Epoch 4/20\n",
      "399/399 [==============================] - 1s 3ms/sample - loss: 1.6138 - accuracy: 0.4586 - val_loss: 1.5228 - val_accuracy: 0.4826\n",
      "Epoch 5/20\n",
      "399/399 [==============================] - 1s 3ms/sample - loss: 1.2605 - accuracy: 0.6441 - val_loss: 1.1455 - val_accuracy: 0.7674\n",
      "Epoch 6/20\n",
      "399/399 [==============================] - 1s 3ms/sample - loss: 0.9344 - accuracy: 0.8246 - val_loss: 0.8542 - val_accuracy: 0.8198\n",
      "Epoch 7/20\n",
      "399/399 [==============================] - 1s 3ms/sample - loss: 0.6868 - accuracy: 0.9173 - val_loss: 0.6632 - val_accuracy: 0.8837\n",
      "Epoch 8/20\n",
      "399/399 [==============================] - 1s 3ms/sample - loss: 0.5025 - accuracy: 0.9298 - val_loss: 0.4614 - val_accuracy: 0.9767\n",
      "Epoch 9/20\n",
      "399/399 [==============================] - 1s 3ms/sample - loss: 0.3770 - accuracy: 0.9624 - val_loss: 0.3858 - val_accuracy: 0.9477\n",
      "Epoch 10/20\n",
      "399/399 [==============================] - 1s 3ms/sample - loss: 0.3017 - accuracy: 0.9549 - val_loss: 0.3258 - val_accuracy: 0.9535\n",
      "Epoch 11/20\n",
      "399/399 [==============================] - 1s 3ms/sample - loss: 0.2483 - accuracy: 0.9774 - val_loss: 0.2534 - val_accuracy: 0.9767\n",
      "Epoch 12/20\n",
      "399/399 [==============================] - 1s 3ms/sample - loss: 0.2036 - accuracy: 0.9799 - val_loss: 0.2270 - val_accuracy: 0.9884\n",
      "Epoch 13/20\n",
      "399/399 [==============================] - 1s 3ms/sample - loss: 0.1733 - accuracy: 0.9799 - val_loss: 0.2007 - val_accuracy: 0.9826\n",
      "Epoch 14/20\n",
      "399/399 [==============================] - 1s 3ms/sample - loss: 0.1479 - accuracy: 0.9850 - val_loss: 0.1798 - val_accuracy: 0.9826\n",
      "Epoch 15/20\n",
      "399/399 [==============================] - 1s 3ms/sample - loss: 0.1291 - accuracy: 0.9900 - val_loss: 0.1634 - val_accuracy: 0.9826\n",
      "Epoch 16/20\n",
      "399/399 [==============================] - 1s 3ms/sample - loss: 0.1125 - accuracy: 0.9875 - val_loss: 0.1504 - val_accuracy: 0.9826\n",
      "Epoch 17/20\n",
      "399/399 [==============================] - 1s 3ms/sample - loss: 0.0993 - accuracy: 0.9925 - val_loss: 0.1316 - val_accuracy: 0.9826\n",
      "Epoch 18/20\n",
      "399/399 [==============================] - 1s 3ms/sample - loss: 0.0916 - accuracy: 0.9875 - val_loss: 0.1309 - val_accuracy: 0.9826\n",
      "Epoch 19/20\n",
      "399/399 [==============================] - 1s 3ms/sample - loss: 0.0807 - accuracy: 0.9875 - val_loss: 0.1165 - val_accuracy: 0.9826\n",
      "Epoch 20/20\n",
      "399/399 [==============================] - 1s 3ms/sample - loss: 0.0732 - accuracy: 0.9900 - val_loss: 0.1101 - val_accuracy: 0.9826\n"
     ]
    },
    {
     "data": {
      "text/plain": [
       "<tensorflow.python.keras.callbacks.History at 0x29538806608>"
      ]
     },
     "execution_count": 89,
     "metadata": {},
     "output_type": "execute_result"
    }
   ],
   "source": [
    "convNet.fit(train_x, train_y, validation_data=(valid_x,valid_y), epochs=20)"
   ]
  },
  {
   "cell_type": "code",
   "execution_count": 1,
   "metadata": {},
   "outputs": [
    {
     "ename": "NameError",
     "evalue": "name 'convNet' is not defined",
     "output_type": "error",
     "traceback": [
      "\u001b[1;31m---------------------------------------------------------------------------\u001b[0m",
      "\u001b[1;31mNameError\u001b[0m                                 Traceback (most recent call last)",
      "\u001b[1;32m<ipython-input-1-bfc9138f3299>\u001b[0m in \u001b[0;36m<module>\u001b[1;34m\u001b[0m\n\u001b[1;32m----> 1\u001b[1;33m \u001b[0mconvNet\u001b[0m\u001b[1;33m.\u001b[0m\u001b[0msave\u001b[0m\u001b[1;33m(\u001b[0m\u001b[1;34m'bacteria_convNet.h5py'\u001b[0m\u001b[1;33m)\u001b[0m\u001b[1;33m\u001b[0m\u001b[1;33m\u001b[0m\u001b[0m\n\u001b[0m",
      "\u001b[1;31mNameError\u001b[0m: name 'convNet' is not defined"
     ]
    }
   ],
   "source": [
    "convNet.save('bacteria_convNet.h5py')"
   ]
  },
  {
   "cell_type": "code",
   "execution_count": null,
   "metadata": {},
   "outputs": [],
   "source": []
  }
 ],
 "metadata": {
  "kernelspec": {
   "display_name": "Python 3",
   "language": "python",
   "name": "python3"
  },
  "language_info": {
   "codemirror_mode": {
    "name": "ipython",
    "version": 3
   },
   "file_extension": ".py",
   "mimetype": "text/x-python",
   "name": "python",
   "nbconvert_exporter": "python",
   "pygments_lexer": "ipython3",
   "version": "3.7.7"
  }
 },
 "nbformat": 4,
 "nbformat_minor": 4
}
