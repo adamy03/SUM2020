{
 "cells": [
  {
   "cell_type": "markdown",
   "metadata": {},
   "source": [
    "**Imports**"
   ]
  },
  {
   "cell_type": "code",
   "execution_count": 2,
   "metadata": {},
   "outputs": [],
   "source": [
    "import tensorflow as tf\n",
    "import pandas as pd\n",
    "import numpy as np\n",
    "import seaborn as sns\n",
    "from matplotlib import pyplot as plt\n",
    "\n",
    "import tensorflow.keras\n",
    "from tensorflow.keras.datasets import mnist\n",
    "from tensorflow.keras.utils import to_categorical\n",
    "from tensorflow.keras.layers import Conv1D, Flatten, Dense\n",
    "from tensorflow.keras.models import Sequential\n",
    "\n",
    "from sklearn.model_selection import train_test_split\n",
    "\n"
   ]
  },
  {
   "cell_type": "markdown",
   "metadata": {},
   "source": [
    "**Loading in Data**"
   ]
  },
  {
   "cell_type": "code",
   "execution_count": 12,
   "metadata": {
    "scrolled": true
   },
   "outputs": [],
   "source": [
    "from numpy import genfromtxt\n",
    "data = genfromtxt('spectra_data/pure_spectra_matrix.csv', delimiter=';')\n",
    "\n",
    "spectra = pd.DataFrame(data=data, columns=np.arange(len(data[0][:])))\n",
    "metadata = pd.read_csv('spectra_data/pure_spectra_metadata.csv', delimiter=';')\n"
   ]
  },
  {
   "cell_type": "markdown",
   "metadata": {},
   "source": [
    "**Processing Data**"
   ]
  },
  {
   "cell_type": "code",
   "execution_count": 49,
   "metadata": {},
   "outputs": [
    {
     "name": "stdout",
     "output_type": "stream",
     "text": [
      "{'AUG': 0, 'BUT': 1, 'EMD': 2, 'JNH': 3, 'NYV': 4, 'QBG': 5, 'QWP': 6, 'RTO': 7, 'VVJ': 8}\n"
     ]
    }
   ],
   "source": [
    "#preprocessing\n",
    "signals = data.reshape(571, 1300, 1)\n",
    "signals = signals/np.max(signals)\n",
    "\n",
    "#encoding genera targets\n",
    "genera = np.unique(np.array([x[:3] for x in metadata.Species.unique()]))\n",
    "\n",
    "def encode(names, targetset, codelength):\n",
    "    code = dict(zip(names, np.arange(len(names))))\n",
    "    print(code)\n",
    "    encoded_names = [x[:codelength] for x in targetset]\n",
    "    encoded_names = [code['{}'.format(x)] for x in encoded_names]\n",
    "    encoded_names = tf.keras.utils.to_categorical(encoded_names)\n",
    "    return encoded_names\n",
    "\n",
    "targets_genus = encode(genera, metadata.Species, 3)\n",
    "\n",
    "#training/validation data\n",
    "trainG_x, validG_x, trainG_y, validG_y = train_test_split(signals, targets_genus, test_size=0.3, random_state=10)"
   ]
  },
  {
   "cell_type": "markdown",
   "metadata": {},
   "source": [
    "**Conv1D Construction - genus classifier**"
   ]
  },
  {
   "cell_type": "code",
   "execution_count": 47,
   "metadata": {},
   "outputs": [],
   "source": [
    "layer1_bs = 45\n",
    "layer2_bs = 36\n",
    "\n",
    "shape = signals[0].shape\n",
    "\n",
    "genus_convnet = Sequential()\n",
    "\n",
    "genus_convnet.add(Conv1D(layer1_bs, kernel_size=3, activation='relu', input_shape=shape))\n",
    "genus_convnet.add(Conv1D(layer2_bs, kernel_size=3, activation='relu'))\n",
    "genus_convnet.add(Flatten())\n",
    "genus_convnet.add(Dense(9, activation='softmax'))\n",
    "genus_convnet.compile(optimizer='adam', loss='categorical_crossentropy', metrics=['accuracy'])\n"
   ]
  },
  {
   "cell_type": "markdown",
   "metadata": {},
   "source": [
    "**Train**"
   ]
  },
  {
   "cell_type": "code",
   "execution_count": 50,
   "metadata": {},
   "outputs": [
    {
     "name": "stdout",
     "output_type": "stream",
     "text": [
      "Train on 399 samples, validate on 172 samples\n",
      "Epoch 1/20\n",
      "399/399 [==============================] - 1s 3ms/sample - loss: 0.0431 - accuracy: 0.9950 - val_loss: 0.0841 - val_accuracy: 0.9826\n",
      "Epoch 2/20\n",
      "399/399 [==============================] - 1s 3ms/sample - loss: 0.0405 - accuracy: 0.9925 - val_loss: 0.0818 - val_accuracy: 0.9826\n",
      "Epoch 3/20\n",
      "399/399 [==============================] - 1s 3ms/sample - loss: 0.0369 - accuracy: 0.9975 - val_loss: 0.0754 - val_accuracy: 0.9826\n",
      "Epoch 4/20\n",
      "399/399 [==============================] - 1s 3ms/sample - loss: 0.0340 - accuracy: 0.9950 - val_loss: 0.0742 - val_accuracy: 0.9826\n",
      "Epoch 5/20\n",
      "399/399 [==============================] - 1s 3ms/sample - loss: 0.0317 - accuracy: 0.9925 - val_loss: 0.0731 - val_accuracy: 0.9826\n",
      "Epoch 6/20\n",
      "399/399 [==============================] - 1s 3ms/sample - loss: 0.0303 - accuracy: 0.9925 - val_loss: 0.0714 - val_accuracy: 0.9826\n",
      "Epoch 7/20\n",
      "399/399 [==============================] - 1s 3ms/sample - loss: 0.0277 - accuracy: 0.9950 - val_loss: 0.0711 - val_accuracy: 0.9826\n",
      "Epoch 8/20\n",
      "399/399 [==============================] - 1s 3ms/sample - loss: 0.0261 - accuracy: 0.9975 - val_loss: 0.0688 - val_accuracy: 0.9826\n",
      "Epoch 9/20\n",
      "399/399 [==============================] - 1s 3ms/sample - loss: 0.0244 - accuracy: 0.9975 - val_loss: 0.0670 - val_accuracy: 0.9826\n",
      "Epoch 10/20\n",
      "399/399 [==============================] - 2s 4ms/sample - loss: 0.0230 - accuracy: 0.9975 - val_loss: 0.0656 - val_accuracy: 0.9826\n",
      "Epoch 11/20\n",
      "399/399 [==============================] - 1s 3ms/sample - loss: 0.0215 - accuracy: 0.9975 - val_loss: 0.0645 - val_accuracy: 0.9826\n",
      "Epoch 12/20\n",
      "399/399 [==============================] - 1s 3ms/sample - loss: 0.0209 - accuracy: 0.9975 - val_loss: 0.0669 - val_accuracy: 0.9826\n",
      "Epoch 13/20\n",
      "399/399 [==============================] - 1s 3ms/sample - loss: 0.0196 - accuracy: 0.9975 - val_loss: 0.0653 - val_accuracy: 0.9826\n",
      "Epoch 14/20\n",
      "399/399 [==============================] - 1s 3ms/sample - loss: 0.0181 - accuracy: 0.9975 - val_loss: 0.0684 - val_accuracy: 0.9826\n",
      "Epoch 15/20\n",
      "399/399 [==============================] - 1s 4ms/sample - loss: 0.0203 - accuracy: 0.9975 - val_loss: 0.0685 - val_accuracy: 0.9826\n",
      "Epoch 16/20\n",
      "399/399 [==============================] - 1s 3ms/sample - loss: 0.0174 - accuracy: 0.9975 - val_loss: 0.0614 - val_accuracy: 0.9826\n",
      "Epoch 17/20\n",
      "399/399 [==============================] - 1s 3ms/sample - loss: 0.0172 - accuracy: 0.9975 - val_loss: 0.0656 - val_accuracy: 0.9767\n",
      "Epoch 18/20\n",
      "399/399 [==============================] - 1s 3ms/sample - loss: 0.0181 - accuracy: 0.9975 - val_loss: 0.0829 - val_accuracy: 0.9767\n",
      "Epoch 19/20\n",
      "399/399 [==============================] - 1s 3ms/sample - loss: 0.0171 - accuracy: 0.9975 - val_loss: 0.0737 - val_accuracy: 0.9826\n",
      "Epoch 20/20\n",
      "399/399 [==============================] - 1s 3ms/sample - loss: 0.0166 - accuracy: 0.9975 - val_loss: 0.0664 - val_accuracy: 0.9826\n"
     ]
    },
    {
     "data": {
      "text/plain": [
       "<tensorflow.python.keras.callbacks.History at 0x2296b437dc8>"
      ]
     },
     "execution_count": 50,
     "metadata": {},
     "output_type": "execute_result"
    }
   ],
   "source": [
    "genus_convnet.fit(trainG_x, trainG_y, validation_data=(validG_x,validG_y), epochs=20)"
   ]
  },
  {
   "cell_type": "code",
   "execution_count": 56,
   "metadata": {},
   "outputs": [
    {
     "name": "stdout",
     "output_type": "stream",
     "text": [
      "INFO:tensorflow:Assets written to: bacteria_genus_convnet.h5py\\assets\n"
     ]
    }
   ],
   "source": [
    "genus_convnet.save('bacteria_genus_convnet.h5py')"
   ]
  },
  {
   "cell_type": "markdown",
   "metadata": {},
   "source": [
    "**Strain identification**"
   ]
  },
  {
   "cell_type": "code",
   "execution_count": 53,
   "metadata": {
    "scrolled": true
   },
   "outputs": [
    {
     "name": "stdout",
     "output_type": "stream",
     "text": [
      "{'AUG.AEX': 0, 'AUG.HSS': 1, 'BUT.BIK': 2, 'BUT.DNW': 3, 'BUT.TRH': 4, 'BUT.YZE': 5, 'EMD.FZO': 6, 'EMD.WXC': 7, 'JNH.FLH': 8, 'JNH.ZIJ': 9, 'NYV.VCE': 10, 'NYV.XSY': 11, 'QBG.CRP': 12, 'QBG.KGI': 13, 'QWP.DRH': 14, 'QWP.LRO': 15, 'RTO.JFR': 16, 'RTO.TQH': 17, 'VVJ.KSF': 18, 'VVJ.KWJ': 19}\n"
     ]
    }
   ],
   "source": [
    "#labels\n",
    "strain = np.unique(np.array(metadata.Species.unique()))\n",
    "\n",
    "#encoding strain targets\n",
    "targets_strain = encode(strain, metadata.Species, 7)\n",
    "\n",
    "#training/validation data\n",
    "trainS_x, validS_x, trainS_y, validS_y = train_test_split(signals, targets_strain, test_size=0.3, random_state=10)"
   ]
  },
  {
   "cell_type": "markdown",
   "metadata": {},
   "source": [
    "**Conv1D Construction - strain classifier**"
   ]
  },
  {
   "cell_type": "code",
   "execution_count": 54,
   "metadata": {},
   "outputs": [],
   "source": [
    "layer1_bs = 80\n",
    "layer2_bs = 60\n",
    "\n",
    "shape = signals[0].shape\n",
    "\n",
    "strain_convnet = Sequential()\n",
    "\n",
    "strain_convnet.add(Conv1D(layer1_bs, kernel_size=3, activation='relu', input_shape=shape))\n",
    "strain_convnet.add(Conv1D(layer2_bs, kernel_size=3, activation='relu'))\n",
    "strain_convnet.add(Flatten())\n",
    "strain_convnet.add(Dense(20, activation='softmax'))\n",
    "strain_convnet.compile(optimizer='adam', loss='categorical_crossentropy', metrics=['accuracy'])\n"
   ]
  },
  {
   "cell_type": "code",
   "execution_count": 55,
   "metadata": {},
   "outputs": [
    {
     "name": "stdout",
     "output_type": "stream",
     "text": [
      "Train on 399 samples, validate on 172 samples\n",
      "Epoch 1/20\n",
      "399/399 [==============================] - 2s 6ms/sample - loss: 2.9212 - accuracy: 0.1378 - val_loss: 2.8946 - val_accuracy: 0.2035\n",
      "Epoch 2/20\n",
      "399/399 [==============================] - 2s 5ms/sample - loss: 2.7298 - accuracy: 0.2281 - val_loss: 2.6967 - val_accuracy: 0.2849\n",
      "Epoch 3/20\n",
      "399/399 [==============================] - 2s 5ms/sample - loss: 2.3560 - accuracy: 0.3634 - val_loss: 2.2156 - val_accuracy: 0.4535\n",
      "Epoch 4/20\n",
      "399/399 [==============================] - 2s 5ms/sample - loss: 1.8190 - accuracy: 0.5965 - val_loss: 1.7278 - val_accuracy: 0.5291\n",
      "Epoch 5/20\n",
      "399/399 [==============================] - 2s 5ms/sample - loss: 1.2744 - accuracy: 0.7243 - val_loss: 1.1754 - val_accuracy: 0.7151\n",
      "Epoch 6/20\n",
      "399/399 [==============================] - 2s 6ms/sample - loss: 0.8689 - accuracy: 0.8170 - val_loss: 0.9233 - val_accuracy: 0.7965\n",
      "Epoch 7/20\n",
      "399/399 [==============================] - 2s 5ms/sample - loss: 0.6703 - accuracy: 0.8596 - val_loss: 0.7390 - val_accuracy: 0.7674\n",
      "Epoch 8/20\n",
      "399/399 [==============================] - 2s 5ms/sample - loss: 0.5126 - accuracy: 0.8897 - val_loss: 0.6328 - val_accuracy: 0.8256\n",
      "Epoch 9/20\n",
      "399/399 [==============================] - 2s 5ms/sample - loss: 0.3896 - accuracy: 0.9098 - val_loss: 0.5589 - val_accuracy: 0.8256\n",
      "Epoch 10/20\n",
      "399/399 [==============================] - 2s 5ms/sample - loss: 0.3247 - accuracy: 0.9198 - val_loss: 0.5073 - val_accuracy: 0.8140\n",
      "Epoch 11/20\n",
      "399/399 [==============================] - 2s 5ms/sample - loss: 0.2614 - accuracy: 0.9248 - val_loss: 0.4917 - val_accuracy: 0.8372\n",
      "Epoch 12/20\n",
      "399/399 [==============================] - 2s 5ms/sample - loss: 0.2315 - accuracy: 0.9424 - val_loss: 0.4511 - val_accuracy: 0.8372\n",
      "Epoch 13/20\n",
      "399/399 [==============================] - 2s 5ms/sample - loss: 0.1886 - accuracy: 0.9649 - val_loss: 0.4668 - val_accuracy: 0.8256\n",
      "Epoch 14/20\n",
      "399/399 [==============================] - 2s 5ms/sample - loss: 0.1607 - accuracy: 0.9549 - val_loss: 0.3964 - val_accuracy: 0.8430\n",
      "Epoch 15/20\n",
      "399/399 [==============================] - 2s 5ms/sample - loss: 0.1581 - accuracy: 0.9649 - val_loss: 0.4451 - val_accuracy: 0.8372\n",
      "Epoch 16/20\n",
      "399/399 [==============================] - 2s 5ms/sample - loss: 0.1279 - accuracy: 0.9649 - val_loss: 0.4360 - val_accuracy: 0.8430\n",
      "Epoch 17/20\n",
      "399/399 [==============================] - 2s 5ms/sample - loss: 0.1168 - accuracy: 0.9674 - val_loss: 0.4369 - val_accuracy: 0.8430\n",
      "Epoch 18/20\n",
      "399/399 [==============================] - 2s 5ms/sample - loss: 0.1013 - accuracy: 0.9749 - val_loss: 0.4585 - val_accuracy: 0.8372\n",
      "Epoch 19/20\n",
      "399/399 [==============================] - 2s 5ms/sample - loss: 0.0833 - accuracy: 0.9850 - val_loss: 0.4484 - val_accuracy: 0.8430\n",
      "Epoch 20/20\n",
      "399/399 [==============================] - 2s 5ms/sample - loss: 0.0867 - accuracy: 0.9749 - val_loss: 0.5053 - val_accuracy: 0.8430\n"
     ]
    },
    {
     "data": {
      "text/plain": [
       "<tensorflow.python.keras.callbacks.History at 0x22970b54588>"
      ]
     },
     "execution_count": 55,
     "metadata": {},
     "output_type": "execute_result"
    }
   ],
   "source": [
    "strain_convnet.fit(trainS_x, trainS_y, validation_data=(validS_x,validS_y), epochs=20)"
   ]
  },
  {
   "cell_type": "code",
   "execution_count": 57,
   "metadata": {},
   "outputs": [
    {
     "name": "stdout",
     "output_type": "stream",
     "text": [
      "INFO:tensorflow:Assets written to: bacteria_strain_convnet.h5py\\assets\n"
     ]
    }
   ],
   "source": [
    "strain_convnet.save('bacteria_strain_convnet.h5py')"
   ]
  }
 ],
 "metadata": {
  "kernelspec": {
   "display_name": "Python 3",
   "language": "python",
   "name": "python3"
  },
  "language_info": {
   "codemirror_mode": {
    "name": "ipython",
    "version": 3
   },
   "file_extension": ".py",
   "mimetype": "text/x-python",
   "name": "python",
   "nbconvert_exporter": "python",
   "pygments_lexer": "ipython3",
   "version": "3.7.7"
  }
 },
 "nbformat": 4,
 "nbformat_minor": 4
}
