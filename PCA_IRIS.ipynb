{
 "cells": [
  {
   "cell_type": "code",
   "execution_count": 72,
   "metadata": {},
   "outputs": [],
   "source": [
    "import numpy as np\n",
    "import matplotlib.pyplot as plt\n",
    "import pandas as pd\n",
    "from sklearn import decomposition\n",
    "from sklearn import datasets\n",
    "from sklearn.preprocessing import StandardScaler\n",
    "from sklearn.decomposition import PCA"
   ]
  },
  {
   "cell_type": "code",
   "execution_count": 73,
   "metadata": {},
   "outputs": [
    {
     "data": {
      "text/plain": [
       "sepal length                  5\n",
       "sepal width                   2\n",
       "petal length                3.5\n",
       "petal width                   1\n",
       "target          Iris-versicolor\n",
       "Name: 60, dtype: object"
      ]
     },
     "execution_count": 73,
     "metadata": {},
     "output_type": "execute_result"
    }
   ],
   "source": [
    "iris = pd.read_csv(\"https://archive.ics.uci.edu/ml/machine-learning-databases/iris/iris.data\", \n",
    "                 names=['sepal length','sepal width','petal length','petal width','target'])\n",
    "iris.loc[60]"
   ]
  },
  {
   "cell_type": "markdown",
   "metadata": {},
   "source": [
    "Noramlize data"
   ]
  },
  {
   "cell_type": "code",
   "execution_count": 74,
   "metadata": {
    "scrolled": true
   },
   "outputs": [],
   "source": [
    "features = ['sepal length', 'sepal width', 'petal length', 'petal width']\n",
    "\n",
    "iris_data = iris.loc[:, features].values\n",
    "iris_names = iris.loc[:,['target']].values\n",
    "\n",
    "#scaled data\n",
    "pca = PCA(n_components=2)\n",
    "iris_pca = pca.fit_transform(iris_data)\n"
   ]
  },
  {
   "cell_type": "markdown",
   "metadata": {},
   "source": [
    "PCA "
   ]
  },
  {
   "cell_type": "code",
   "execution_count": 75,
   "metadata": {},
   "outputs": [
    {
     "data": {
      "image/png": "[encoded data removed]",
      "text/plain": [
       "<Figure size 720x360 with 1 Axes>"
      ]
     },
     "metadata": {
      "needs_background": "light"
     },
     "output_type": "display_data"
    }
   ],
   "source": [
    "#components\n",
    "principalComponents = pca.fit_transform(iris_data)\n",
    "\n",
    "pca_vari = np.round(pca.explained_variance_ratio_ * 100, decimals = 4)\n",
    "pca_labels = ['PC' + str(x) for x in range(1, len(pca_vari)+1)]\n",
    "\n",
    "plt.figure(figsize=(10,5))\n",
    "plt.bar(pca_labels, pca_vari)\n",
    "plt.title('scree plot')\n",
    "plt.show()\n"
   ]
  },
  {
   "cell_type": "code",
   "execution_count": 76,
   "metadata": {
    "scrolled": false
   },
   "outputs": [
    {
     "data": {
      "text/plain": [
       "Text(0.5, 1.0, 'PCA of iris')"
      ]
     },
     "execution_count": 76,
     "metadata": {},
     "output_type": "execute_result"
    },
    {
     "data": {
      "image/png": "[encoded data removed]",
      "text/plain": [
       "<Figure size 648x648 with 1 Axes>"
      ]
     },
     "metadata": {
      "needs_background": "light"
     },
     "output_type": "display_data"
    }
   ],
   "source": [
    "iris_pca = pd.DataFrame(data=iris_pca, columns=pca_labels)\n",
    "iris_pca['target'] = iris_names\n",
    "\n",
    "plt.figure(figsize=(9,9))\n",
    "\n",
    "species = ['Iris-setosa', 'Iris-versicolor', 'Iris-virginica']\n",
    "color = ['r','g','b']\n",
    "\n",
    "for target, color in zip(species,color):\n",
    "    spec = iris_pca.target == target\n",
    "    plt.scatter(iris_pca.loc[spec, 'PC1'], iris_pca.loc[spec, 'PC2'], c = color)\n",
    "\n",
    "plt.legend(species)     \n",
    "plt.xlabel('PC1 - ' + str(pca_vari[0]) + '%')\n",
    "plt.ylabel('PC2 - ' + str(pca_vari[1]) + '%')\n",
    "plt.title('PCA of iris')\n"
   ]
  },
  {
   "cell_type": "markdown",
   "metadata": {},
   "source": [
    "**Nearest Neighbor Classification**"
   ]
  },
  {
   "cell_type": "code",
   "execution_count": 77,
   "metadata": {},
   "outputs": [
    {
     "name": "stdout",
     "output_type": "stream",
     "text": [
      "0.9733333333333334\n"
     ]
    }
   ],
   "source": [
    "from sklearn.neighbors import KNeighborsClassifier\n",
    "from sklearn.model_selection import train_test_split\n",
    "from sklearn.metrics import classification_report, confusion_matrix, accuracy_score\n",
    "\n",
    "iris_train, iris_test = train_test_split(iris_pca, test_size=0.5)\n",
    "\n",
    "predictor = KNeighborsClassifier(n_neighbors=5)\n",
    "predictor.fit(iris_train[['PC1','PC2']], iris_train['target'])\n",
    "\n",
    "predictions = predictor.predict(iris_test[['PC1','PC2']])\n",
    "\n",
    "print(accuracy_score(iris_test.target, predictions))"
   ]
  },
  {
   "cell_type": "markdown",
   "metadata": {},
   "source": [
    "Prediction Function"
   ]
  },
  {
   "cell_type": "code",
   "execution_count": 80,
   "metadata": {},
   "outputs": [
    {
     "data": {
      "text/plain": [
       "'Iris-setosa'"
      ]
     },
     "execution_count": 80,
     "metadata": {},
     "output_type": "execute_result"
    }
   ],
   "source": [
    "def predict_flower(sepal_len, sepal_wid, petal_len, petal_wid):\n",
    "    \"\"\"Predicts Target from measurements\"\"\"\n",
    "    iris_predict = pd.DataFrame(iris_data.copy())\n",
    "    iris_target = pd.DataFrame(iris_names.copy())\n",
    "    \n",
    "    data = np.array([sepal_len, sepal_wid, petal_len, petal_wid])\n",
    "    iris_predict = np.vstack((iris_predict, data))\n",
    "    predict_pca = pca.fit_transform(iris_predict)\n",
    "    prediction = predictor.predict(predict_pca)\n",
    "    \n",
    "    return(prediction[-1])\n",
    "\n",
    "predict_flower(5.0, 3.2, 1.3, 0.1)"
   ]
  }
 ],
 "metadata": {
  "kernelspec": {
   "display_name": "Python 3",
   "language": "python",
   "name": "python3"
  },
  "language_info": {
   "codemirror_mode": {
    "name": "ipython",
    "version": 3
   },
   "file_extension": ".py",
   "mimetype": "text/x-python",
   "name": "python",
   "nbconvert_exporter": "python",
   "pygments_lexer": "ipython3",
   "version": "3.7.7"
  }
 },
 "nbformat": 4,
 "nbformat_minor": 4
}
